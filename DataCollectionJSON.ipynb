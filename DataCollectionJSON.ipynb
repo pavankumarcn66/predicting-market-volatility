{
 "cells": [
  {
   "cell_type": "code",
   "execution_count": 1,
   "metadata": {},
   "outputs": [],
   "source": [
    "import json\n",
    "import pandas as pd"
   ]
  },
  {
   "cell_type": "code",
   "execution_count": null,
   "metadata": {},
   "outputs": [],
   "source": [
    "file = open('wsbData.json', encoding = 'utf-8')\n",
    "a = []"
   ]
  },
  {
   "cell_type": "code",
   "execution_count": 3,
   "metadata": {},
   "outputs": [],
   "source": [
    "\n",
    "\n",
    "for line in file:\n",
    "    a.append(json.loads(line))\n",
    "\n",
    "df = pd.DataFrame(a)\n",
    "df.head()\n",
    "\n",
    "df['date_created'] = pd.to_datetime(df['created_utc'].astype(int), unit='s')\n",
    "df.drop(columns=['created_utc','archived', 'controversiality','retrieved_on','downs','ups','subreddit'], inplace=True)\n",
    "df['date'] = df['date_created'].dt.date\n",
    "df.drop(columns=['date_created','gilded','link_id','id', \n",
    "                 'score_hidden', 'name', 'author', 'subreddit_id', 'parent_id', 'author_flair_text', \n",
    "                 'author_flair_css_class','distinguished', 'score_hidden', 'name', 'author', 'subreddit_id', \n",
    "                 'parent_id', 'author_flair_text', 'author_flair_css_class','distinguished'], inplace=True)\n",
    "\n",
    "df = df.drop(df[df['body'].map(lambda x: str(x)==\"[deleted]\")].index)"
   ]
  },
  {
   "cell_type": "code",
   "execution_count": 4,
   "metadata": {},
   "outputs": [
    {
     "data": {
      "text/html": [
       "<div>\n",
       "<style scoped>\n",
       "    .dataframe tbody tr th:only-of-type {\n",
       "        vertical-align: middle;\n",
       "    }\n",
       "\n",
       "    .dataframe tbody tr th {\n",
       "        vertical-align: top;\n",
       "    }\n",
       "\n",
       "    .dataframe thead th {\n",
       "        text-align: right;\n",
       "    }\n",
       "</style>\n",
       "<table border=\"1\" class=\"dataframe\">\n",
       "  <thead>\n",
       "    <tr style=\"text-align: right;\">\n",
       "      <th></th>\n",
       "      <th>body</th>\n",
       "      <th>score</th>\n",
       "      <th>date</th>\n",
       "    </tr>\n",
       "  </thead>\n",
       "  <tbody>\n",
       "    <tr>\n",
       "      <th>1</th>\n",
       "      <td>Lol. Yeah, Welp.</td>\n",
       "      <td>1</td>\n",
       "      <td>2014-10-09</td>\n",
       "    </tr>\n",
       "    <tr>\n",
       "      <th>3</th>\n",
       "      <td>Crypto miners is not a significant enough mark...</td>\n",
       "      <td>1</td>\n",
       "      <td>2014-02-19</td>\n",
       "    </tr>\n",
       "    <tr>\n",
       "      <th>4</th>\n",
       "      <td>Sold a covered call at 560. I almost wish it d...</td>\n",
       "      <td>1</td>\n",
       "      <td>2014-04-24</td>\n",
       "    </tr>\n",
       "    <tr>\n",
       "      <th>5</th>\n",
       "      <td>NFLX because earning reports releases. +10-12%...</td>\n",
       "      <td>1</td>\n",
       "      <td>2014-01-20</td>\n",
       "    </tr>\n",
       "    <tr>\n",
       "      <th>6</th>\n",
       "      <td>Agreed 100%. When are their earnings? I'd like...</td>\n",
       "      <td>1</td>\n",
       "      <td>2014-07-25</td>\n",
       "    </tr>\n",
       "  </tbody>\n",
       "</table>\n",
       "</div>"
      ],
      "text/plain": [
       "                                                body score        date\n",
       "1                                   Lol. Yeah, Welp.     1  2014-10-09\n",
       "3  Crypto miners is not a significant enough mark...     1  2014-02-19\n",
       "4  Sold a covered call at 560. I almost wish it d...     1  2014-04-24\n",
       "5  NFLX because earning reports releases. +10-12%...     1  2014-01-20\n",
       "6  Agreed 100%. When are their earnings? I'd like...     1  2014-07-25"
      ]
     },
     "execution_count": 4,
     "metadata": {},
     "output_type": "execute_result"
    }
   ],
   "source": [
    "df.head()"
   ]
  },
  {
   "cell_type": "code",
   "execution_count": null,
   "metadata": {},
   "outputs": [],
   "source": [
    "df.to_csv('TrimmedJSON.csv')"
   ]
  }
 ],
 "metadata": {
  "kernelspec": {
   "display_name": "Python 3",
   "language": "python",
   "name": "python3"
  },
  "language_info": {
   "codemirror_mode": {
    "name": "ipython",
    "version": 3
   },
   "file_extension": ".py",
   "mimetype": "text/x-python",
   "name": "python",
   "nbconvert_exporter": "python",
   "pygments_lexer": "ipython3",
   "version": "3.8.5"
  }
 },
 "nbformat": 4,
 "nbformat_minor": 2
}
