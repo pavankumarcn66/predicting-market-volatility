{
 "cells": [
  {
   "cell_type": "code",
   "execution_count": 1,
   "id": "77dac5c4",
   "metadata": {},
   "outputs": [],
   "source": [
    "import pandas as pd\n",
    "import numpy as np\n",
    "import matplotlib.pyplot as plt\n",
    "import seaborn as sns\n",
    "\n",
    "\n",
    "sns.set()"
   ]
  },
  {
   "cell_type": "code",
   "execution_count": 2,
   "id": "80476004",
   "metadata": {},
   "outputs": [],
   "source": [
    "import warnings\n",
    "warnings.filterwarnings('ignore')"
   ]
  },
  {
   "cell_type": "code",
   "execution_count": 3,
   "id": "05e9375c",
   "metadata": {},
   "outputs": [],
   "source": [
    "data = pd.read_csv('FinalDataset.csv')"
   ]
  },
  {
   "cell_type": "code",
   "execution_count": 4,
   "id": "ba20cc4b",
   "metadata": {},
   "outputs": [
    {
     "data": {
      "text/html": [
       "<div>\n",
       "<style scoped>\n",
       "    .dataframe tbody tr th:only-of-type {\n",
       "        vertical-align: middle;\n",
       "    }\n",
       "\n",
       "    .dataframe tbody tr th {\n",
       "        vertical-align: top;\n",
       "    }\n",
       "\n",
       "    .dataframe thead th {\n",
       "        text-align: right;\n",
       "    }\n",
       "</style>\n",
       "<table border=\"1\" class=\"dataframe\">\n",
       "  <thead>\n",
       "    <tr style=\"text-align: right;\">\n",
       "      <th></th>\n",
       "      <th>Unnamed: 0</th>\n",
       "      <th>open</th>\n",
       "      <th>high</th>\n",
       "      <th>low</th>\n",
       "      <th>close</th>\n",
       "      <th>volume</th>\n",
       "      <th>date_parsed</th>\n",
       "      <th>cont_len</th>\n",
       "      <th>cont_pol</th>\n",
       "      <th>cont_sent</th>\n",
       "      <th>date_year</th>\n",
       "      <th>date_month</th>\n",
       "      <th>date_day</th>\n",
       "      <th>sent_neg</th>\n",
       "      <th>sent_neu</th>\n",
       "      <th>sent_pos</th>\n",
       "      <th>target_variable</th>\n",
       "    </tr>\n",
       "  </thead>\n",
       "  <tbody>\n",
       "    <tr>\n",
       "      <th>0</th>\n",
       "      <td>0</td>\n",
       "      <td>1358.98</td>\n",
       "      <td>1374.71</td>\n",
       "      <td>1358.98</td>\n",
       "      <td>1368.70</td>\n",
       "      <td>593003200.0</td>\n",
       "      <td>2012-04-11</td>\n",
       "      <td>108.142857</td>\n",
       "      <td>0.01</td>\n",
       "      <td>Positive</td>\n",
       "      <td>2012</td>\n",
       "      <td>4</td>\n",
       "      <td>11</td>\n",
       "      <td>0</td>\n",
       "      <td>0</td>\n",
       "      <td>1</td>\n",
       "      <td>0</td>\n",
       "    </tr>\n",
       "    <tr>\n",
       "      <th>1</th>\n",
       "      <td>1</td>\n",
       "      <td>1368.77</td>\n",
       "      <td>1388.13</td>\n",
       "      <td>1368.77</td>\n",
       "      <td>1387.56</td>\n",
       "      <td>547368832.0</td>\n",
       "      <td>2012-04-12</td>\n",
       "      <td>75.000000</td>\n",
       "      <td>0.11</td>\n",
       "      <td>Positive</td>\n",
       "      <td>2012</td>\n",
       "      <td>4</td>\n",
       "      <td>12</td>\n",
       "      <td>0</td>\n",
       "      <td>0</td>\n",
       "      <td>1</td>\n",
       "      <td>1</td>\n",
       "    </tr>\n",
       "    <tr>\n",
       "      <th>2</th>\n",
       "      <td>2</td>\n",
       "      <td>1387.61</td>\n",
       "      <td>1387.61</td>\n",
       "      <td>1369.85</td>\n",
       "      <td>1370.26</td>\n",
       "      <td>631237824.0</td>\n",
       "      <td>2012-04-13</td>\n",
       "      <td>73.000000</td>\n",
       "      <td>0.00</td>\n",
       "      <td>Neutral</td>\n",
       "      <td>2012</td>\n",
       "      <td>4</td>\n",
       "      <td>13</td>\n",
       "      <td>0</td>\n",
       "      <td>1</td>\n",
       "      <td>0</td>\n",
       "      <td>0</td>\n",
       "    </tr>\n",
       "    <tr>\n",
       "      <th>3</th>\n",
       "      <td>3</td>\n",
       "      <td>1370.27</td>\n",
       "      <td>1379.66</td>\n",
       "      <td>1365.38</td>\n",
       "      <td>1369.57</td>\n",
       "      <td>596952128.0</td>\n",
       "      <td>2012-04-16</td>\n",
       "      <td>188.500000</td>\n",
       "      <td>0.13</td>\n",
       "      <td>Positive</td>\n",
       "      <td>2012</td>\n",
       "      <td>4</td>\n",
       "      <td>16</td>\n",
       "      <td>0</td>\n",
       "      <td>0</td>\n",
       "      <td>1</td>\n",
       "      <td>0</td>\n",
       "    </tr>\n",
       "    <tr>\n",
       "      <th>4</th>\n",
       "      <td>4</td>\n",
       "      <td>1369.57</td>\n",
       "      <td>1392.76</td>\n",
       "      <td>1369.57</td>\n",
       "      <td>1390.78</td>\n",
       "      <td>566529216.0</td>\n",
       "      <td>2012-04-17</td>\n",
       "      <td>235.529412</td>\n",
       "      <td>0.10</td>\n",
       "      <td>Positive</td>\n",
       "      <td>2012</td>\n",
       "      <td>4</td>\n",
       "      <td>17</td>\n",
       "      <td>0</td>\n",
       "      <td>0</td>\n",
       "      <td>1</td>\n",
       "      <td>1</td>\n",
       "    </tr>\n",
       "  </tbody>\n",
       "</table>\n",
       "</div>"
      ],
      "text/plain": [
       "   Unnamed: 0     open     high      low    close       volume date_parsed  \\\n",
       "0           0  1358.98  1374.71  1358.98  1368.70  593003200.0  2012-04-11   \n",
       "1           1  1368.77  1388.13  1368.77  1387.56  547368832.0  2012-04-12   \n",
       "2           2  1387.61  1387.61  1369.85  1370.26  631237824.0  2012-04-13   \n",
       "3           3  1370.27  1379.66  1365.38  1369.57  596952128.0  2012-04-16   \n",
       "4           4  1369.57  1392.76  1369.57  1390.78  566529216.0  2012-04-17   \n",
       "\n",
       "     cont_len  cont_pol cont_sent  date_year  date_month  date_day  sent_neg  \\\n",
       "0  108.142857      0.01  Positive       2012           4        11         0   \n",
       "1   75.000000      0.11  Positive       2012           4        12         0   \n",
       "2   73.000000      0.00   Neutral       2012           4        13         0   \n",
       "3  188.500000      0.13  Positive       2012           4        16         0   \n",
       "4  235.529412      0.10  Positive       2012           4        17         0   \n",
       "\n",
       "   sent_neu  sent_pos  target_variable  \n",
       "0         0         1                0  \n",
       "1         0         1                1  \n",
       "2         1         0                0  \n",
       "3         0         1                0  \n",
       "4         0         1                1  "
      ]
     },
     "execution_count": 4,
     "metadata": {},
     "output_type": "execute_result"
    }
   ],
   "source": [
    "data.head()"
   ]
  },
  {
   "cell_type": "code",
   "execution_count": 5,
   "id": "4a82a545",
   "metadata": {},
   "outputs": [
    {
     "data": {
      "text/html": [
       "<div>\n",
       "<style scoped>\n",
       "    .dataframe tbody tr th:only-of-type {\n",
       "        vertical-align: middle;\n",
       "    }\n",
       "\n",
       "    .dataframe tbody tr th {\n",
       "        vertical-align: top;\n",
       "    }\n",
       "\n",
       "    .dataframe thead th {\n",
       "        text-align: right;\n",
       "    }\n",
       "</style>\n",
       "<table border=\"1\" class=\"dataframe\">\n",
       "  <thead>\n",
       "    <tr style=\"text-align: right;\">\n",
       "      <th></th>\n",
       "      <th>open</th>\n",
       "      <th>high</th>\n",
       "      <th>low</th>\n",
       "      <th>close</th>\n",
       "      <th>volume</th>\n",
       "      <th>date_parsed</th>\n",
       "      <th>cont_len</th>\n",
       "      <th>cont_pol</th>\n",
       "      <th>cont_sent</th>\n",
       "      <th>date_year</th>\n",
       "      <th>date_month</th>\n",
       "      <th>date_day</th>\n",
       "      <th>sent_neg</th>\n",
       "      <th>sent_neu</th>\n",
       "      <th>sent_pos</th>\n",
       "      <th>target_variable</th>\n",
       "    </tr>\n",
       "  </thead>\n",
       "  <tbody>\n",
       "    <tr>\n",
       "      <th>0</th>\n",
       "      <td>1358.98</td>\n",
       "      <td>1374.71</td>\n",
       "      <td>1358.98</td>\n",
       "      <td>1368.70</td>\n",
       "      <td>593003200.0</td>\n",
       "      <td>2012-04-11</td>\n",
       "      <td>108.142857</td>\n",
       "      <td>0.01</td>\n",
       "      <td>Positive</td>\n",
       "      <td>2012</td>\n",
       "      <td>4</td>\n",
       "      <td>11</td>\n",
       "      <td>0</td>\n",
       "      <td>0</td>\n",
       "      <td>1</td>\n",
       "      <td>0</td>\n",
       "    </tr>\n",
       "    <tr>\n",
       "      <th>1</th>\n",
       "      <td>1368.77</td>\n",
       "      <td>1388.13</td>\n",
       "      <td>1368.77</td>\n",
       "      <td>1387.56</td>\n",
       "      <td>547368832.0</td>\n",
       "      <td>2012-04-12</td>\n",
       "      <td>75.000000</td>\n",
       "      <td>0.11</td>\n",
       "      <td>Positive</td>\n",
       "      <td>2012</td>\n",
       "      <td>4</td>\n",
       "      <td>12</td>\n",
       "      <td>0</td>\n",
       "      <td>0</td>\n",
       "      <td>1</td>\n",
       "      <td>1</td>\n",
       "    </tr>\n",
       "    <tr>\n",
       "      <th>2</th>\n",
       "      <td>1387.61</td>\n",
       "      <td>1387.61</td>\n",
       "      <td>1369.85</td>\n",
       "      <td>1370.26</td>\n",
       "      <td>631237824.0</td>\n",
       "      <td>2012-04-13</td>\n",
       "      <td>73.000000</td>\n",
       "      <td>0.00</td>\n",
       "      <td>Neutral</td>\n",
       "      <td>2012</td>\n",
       "      <td>4</td>\n",
       "      <td>13</td>\n",
       "      <td>0</td>\n",
       "      <td>1</td>\n",
       "      <td>0</td>\n",
       "      <td>0</td>\n",
       "    </tr>\n",
       "    <tr>\n",
       "      <th>3</th>\n",
       "      <td>1370.27</td>\n",
       "      <td>1379.66</td>\n",
       "      <td>1365.38</td>\n",
       "      <td>1369.57</td>\n",
       "      <td>596952128.0</td>\n",
       "      <td>2012-04-16</td>\n",
       "      <td>188.500000</td>\n",
       "      <td>0.13</td>\n",
       "      <td>Positive</td>\n",
       "      <td>2012</td>\n",
       "      <td>4</td>\n",
       "      <td>16</td>\n",
       "      <td>0</td>\n",
       "      <td>0</td>\n",
       "      <td>1</td>\n",
       "      <td>0</td>\n",
       "    </tr>\n",
       "    <tr>\n",
       "      <th>4</th>\n",
       "      <td>1369.57</td>\n",
       "      <td>1392.76</td>\n",
       "      <td>1369.57</td>\n",
       "      <td>1390.78</td>\n",
       "      <td>566529216.0</td>\n",
       "      <td>2012-04-17</td>\n",
       "      <td>235.529412</td>\n",
       "      <td>0.10</td>\n",
       "      <td>Positive</td>\n",
       "      <td>2012</td>\n",
       "      <td>4</td>\n",
       "      <td>17</td>\n",
       "      <td>0</td>\n",
       "      <td>0</td>\n",
       "      <td>1</td>\n",
       "      <td>1</td>\n",
       "    </tr>\n",
       "  </tbody>\n",
       "</table>\n",
       "</div>"
      ],
      "text/plain": [
       "      open     high      low    close       volume date_parsed    cont_len  \\\n",
       "0  1358.98  1374.71  1358.98  1368.70  593003200.0  2012-04-11  108.142857   \n",
       "1  1368.77  1388.13  1368.77  1387.56  547368832.0  2012-04-12   75.000000   \n",
       "2  1387.61  1387.61  1369.85  1370.26  631237824.0  2012-04-13   73.000000   \n",
       "3  1370.27  1379.66  1365.38  1369.57  596952128.0  2012-04-16  188.500000   \n",
       "4  1369.57  1392.76  1369.57  1390.78  566529216.0  2012-04-17  235.529412   \n",
       "\n",
       "   cont_pol cont_sent  date_year  date_month  date_day  sent_neg  sent_neu  \\\n",
       "0      0.01  Positive       2012           4        11         0         0   \n",
       "1      0.11  Positive       2012           4        12         0         0   \n",
       "2      0.00   Neutral       2012           4        13         0         1   \n",
       "3      0.13  Positive       2012           4        16         0         0   \n",
       "4      0.10  Positive       2012           4        17         0         0   \n",
       "\n",
       "   sent_pos  target_variable  \n",
       "0         1                0  \n",
       "1         1                1  \n",
       "2         0                0  \n",
       "3         1                0  \n",
       "4         1                1  "
      ]
     },
     "execution_count": 5,
     "metadata": {},
     "output_type": "execute_result"
    }
   ],
   "source": [
    "data.drop(['Unnamed: 0'], axis=1, inplace=True)\n",
    "data.head()"
   ]
  },
  {
   "cell_type": "code",
   "execution_count": 6,
   "id": "f76543bb",
   "metadata": {},
   "outputs": [
    {
     "data": {
      "text/plain": [
       "0       2012-04-11\n",
       "1       2012-04-12\n",
       "2       2012-04-13\n",
       "3       2012-04-16\n",
       "4       2012-04-17\n",
       "           ...    \n",
       "1632    2018-10-25\n",
       "1633    2018-10-26\n",
       "1634    2018-10-29\n",
       "1635    2018-10-30\n",
       "1636    2018-10-31\n",
       "Name: date_parsed, Length: 1637, dtype: object"
      ]
     },
     "execution_count": 6,
     "metadata": {},
     "output_type": "execute_result"
    }
   ],
   "source": [
    "data['date_parsed']"
   ]
  },
  {
   "cell_type": "code",
   "execution_count": 7,
   "id": "e4e0a2ab",
   "metadata": {},
   "outputs": [
    {
     "data": {
      "text/plain": [
       "0      2012-04-11\n",
       "1      2012-04-12\n",
       "2      2012-04-13\n",
       "3      2012-04-16\n",
       "4      2012-04-17\n",
       "          ...    \n",
       "1632   2018-10-25\n",
       "1633   2018-10-26\n",
       "1634   2018-10-29\n",
       "1635   2018-10-30\n",
       "1636   2018-10-31\n",
       "Name: date_parsed, Length: 1637, dtype: datetime64[ns]"
      ]
     },
     "execution_count": 7,
     "metadata": {},
     "output_type": "execute_result"
    }
   ],
   "source": [
    "#Parsing date\n",
    "\n",
    "data['date_parsed'] = pd.to_datetime(data['date_parsed'],format=\"%Y-%m-%d\")\n",
    "data['date_parsed']"
   ]
  },
  {
   "cell_type": "markdown",
   "id": "98b06985",
   "metadata": {},
   "source": [
    "## Assign the dependent and independent features into different variable.\n",
    "\n",
    "Dependent Feature - target_variable\n",
    "\n",
    "Independent Feature - open, high, low, close, volume, cont_len, cont_pol, date_parsed, date_year, date_month, date_day, sent_neg, sent_neu, sent_pos"
   ]
  },
  {
   "cell_type": "code",
   "execution_count": 8,
   "id": "1d4eb906",
   "metadata": {},
   "outputs": [
    {
     "data": {
      "text/html": [
       "<div>\n",
       "<style scoped>\n",
       "    .dataframe tbody tr th:only-of-type {\n",
       "        vertical-align: middle;\n",
       "    }\n",
       "\n",
       "    .dataframe tbody tr th {\n",
       "        vertical-align: top;\n",
       "    }\n",
       "\n",
       "    .dataframe thead th {\n",
       "        text-align: right;\n",
       "    }\n",
       "</style>\n",
       "<table border=\"1\" class=\"dataframe\">\n",
       "  <thead>\n",
       "    <tr style=\"text-align: right;\">\n",
       "      <th></th>\n",
       "      <th>open</th>\n",
       "      <th>high</th>\n",
       "      <th>low</th>\n",
       "      <th>close</th>\n",
       "      <th>volume</th>\n",
       "      <th>cont_len</th>\n",
       "      <th>date_year</th>\n",
       "      <th>date_month</th>\n",
       "      <th>date_day</th>\n",
       "      <th>sent_neg</th>\n",
       "      <th>sent_neu</th>\n",
       "      <th>sent_pos</th>\n",
       "    </tr>\n",
       "  </thead>\n",
       "  <tbody>\n",
       "    <tr>\n",
       "      <th>0</th>\n",
       "      <td>1358.98</td>\n",
       "      <td>1374.71</td>\n",
       "      <td>1358.98</td>\n",
       "      <td>1368.70</td>\n",
       "      <td>593003200.0</td>\n",
       "      <td>108.142857</td>\n",
       "      <td>2012</td>\n",
       "      <td>4</td>\n",
       "      <td>11</td>\n",
       "      <td>0</td>\n",
       "      <td>0</td>\n",
       "      <td>1</td>\n",
       "    </tr>\n",
       "    <tr>\n",
       "      <th>1</th>\n",
       "      <td>1368.77</td>\n",
       "      <td>1388.13</td>\n",
       "      <td>1368.77</td>\n",
       "      <td>1387.56</td>\n",
       "      <td>547368832.0</td>\n",
       "      <td>75.000000</td>\n",
       "      <td>2012</td>\n",
       "      <td>4</td>\n",
       "      <td>12</td>\n",
       "      <td>0</td>\n",
       "      <td>0</td>\n",
       "      <td>1</td>\n",
       "    </tr>\n",
       "    <tr>\n",
       "      <th>2</th>\n",
       "      <td>1387.61</td>\n",
       "      <td>1387.61</td>\n",
       "      <td>1369.85</td>\n",
       "      <td>1370.26</td>\n",
       "      <td>631237824.0</td>\n",
       "      <td>73.000000</td>\n",
       "      <td>2012</td>\n",
       "      <td>4</td>\n",
       "      <td>13</td>\n",
       "      <td>0</td>\n",
       "      <td>1</td>\n",
       "      <td>0</td>\n",
       "    </tr>\n",
       "    <tr>\n",
       "      <th>3</th>\n",
       "      <td>1370.27</td>\n",
       "      <td>1379.66</td>\n",
       "      <td>1365.38</td>\n",
       "      <td>1369.57</td>\n",
       "      <td>596952128.0</td>\n",
       "      <td>188.500000</td>\n",
       "      <td>2012</td>\n",
       "      <td>4</td>\n",
       "      <td>16</td>\n",
       "      <td>0</td>\n",
       "      <td>0</td>\n",
       "      <td>1</td>\n",
       "    </tr>\n",
       "    <tr>\n",
       "      <th>4</th>\n",
       "      <td>1369.57</td>\n",
       "      <td>1392.76</td>\n",
       "      <td>1369.57</td>\n",
       "      <td>1390.78</td>\n",
       "      <td>566529216.0</td>\n",
       "      <td>235.529412</td>\n",
       "      <td>2012</td>\n",
       "      <td>4</td>\n",
       "      <td>17</td>\n",
       "      <td>0</td>\n",
       "      <td>0</td>\n",
       "      <td>1</td>\n",
       "    </tr>\n",
       "  </tbody>\n",
       "</table>\n",
       "</div>"
      ],
      "text/plain": [
       "      open     high      low    close       volume    cont_len  date_year  \\\n",
       "0  1358.98  1374.71  1358.98  1368.70  593003200.0  108.142857       2012   \n",
       "1  1368.77  1388.13  1368.77  1387.56  547368832.0   75.000000       2012   \n",
       "2  1387.61  1387.61  1369.85  1370.26  631237824.0   73.000000       2012   \n",
       "3  1370.27  1379.66  1365.38  1369.57  596952128.0  188.500000       2012   \n",
       "4  1369.57  1392.76  1369.57  1390.78  566529216.0  235.529412       2012   \n",
       "\n",
       "   date_month  date_day  sent_neg  sent_neu  sent_pos  \n",
       "0           4        11         0         0         1  \n",
       "1           4        12         0         0         1  \n",
       "2           4        13         0         1         0  \n",
       "3           4        16         0         0         1  \n",
       "4           4        17         0         0         1  "
      ]
     },
     "execution_count": 8,
     "metadata": {},
     "output_type": "execute_result"
    }
   ],
   "source": [
    "X = data.loc[:, ['open', 'high', 'low', 'close', 'volume', 'cont_len', \n",
    "       'date_year', 'date_month', 'date_day',\n",
    "       'sent_neg', 'sent_neu', 'sent_pos']]\n",
    "X.head()"
   ]
  },
  {
   "cell_type": "code",
   "execution_count": 9,
   "id": "3bf8b5e3",
   "metadata": {},
   "outputs": [
    {
     "data": {
      "text/plain": [
       "0    0\n",
       "1    1\n",
       "2    0\n",
       "3    0\n",
       "4    1\n",
       "Name: target_variable, dtype: int64"
      ]
     },
     "execution_count": 9,
     "metadata": {},
     "output_type": "execute_result"
    }
   ],
   "source": [
    "y = data.loc[:,'target_variable']\n",
    "y.head()"
   ]
  },
  {
   "cell_type": "code",
   "execution_count": 10,
   "id": "efe5bd56",
   "metadata": {},
   "outputs": [
    {
     "data": {
      "text/plain": [
       "1    885\n",
       "0    752\n",
       "Name: target_variable, dtype: int64"
      ]
     },
     "execution_count": 10,
     "metadata": {},
     "output_type": "execute_result"
    }
   ],
   "source": [
    "y.value_counts()"
   ]
  },
  {
   "cell_type": "code",
   "execution_count": 11,
   "id": "2d300fe5",
   "metadata": {},
   "outputs": [],
   "source": [
    "from sklearn.model_selection import train_test_split\n",
    "X_train, X_test, y_train, y_test = train_test_split(X, y, test_size = 0.2, random_state = 42)"
   ]
  },
  {
   "cell_type": "code",
   "execution_count": 12,
   "id": "0052cd1c",
   "metadata": {},
   "outputs": [
    {
     "data": {
      "text/html": [
       "<div>\n",
       "<style scoped>\n",
       "    .dataframe tbody tr th:only-of-type {\n",
       "        vertical-align: middle;\n",
       "    }\n",
       "\n",
       "    .dataframe tbody tr th {\n",
       "        vertical-align: top;\n",
       "    }\n",
       "\n",
       "    .dataframe thead th {\n",
       "        text-align: right;\n",
       "    }\n",
       "</style>\n",
       "<table border=\"1\" class=\"dataframe\">\n",
       "  <thead>\n",
       "    <tr style=\"text-align: right;\">\n",
       "      <th></th>\n",
       "      <th>open</th>\n",
       "      <th>high</th>\n",
       "      <th>low</th>\n",
       "      <th>close</th>\n",
       "      <th>volume</th>\n",
       "      <th>cont_len</th>\n",
       "      <th>date_year</th>\n",
       "      <th>date_month</th>\n",
       "      <th>date_day</th>\n",
       "      <th>sent_neg</th>\n",
       "      <th>sent_neu</th>\n",
       "      <th>sent_pos</th>\n",
       "    </tr>\n",
       "  </thead>\n",
       "  <tbody>\n",
       "    <tr>\n",
       "      <th>63</th>\n",
       "      <td>1341.29</td>\n",
       "      <td>1341.29</td>\n",
       "      <td>1325.41</td>\n",
       "      <td>1334.76</td>\n",
       "      <td>611763776.0</td>\n",
       "      <td>191.522727</td>\n",
       "      <td>2012</td>\n",
       "      <td>7</td>\n",
       "      <td>12</td>\n",
       "      <td>0</td>\n",
       "      <td>0</td>\n",
       "      <td>1</td>\n",
       "    </tr>\n",
       "    <tr>\n",
       "      <th>1316</th>\n",
       "      <td>2479.97</td>\n",
       "      <td>2481.69</td>\n",
       "      <td>2474.94</td>\n",
       "      <td>2477.83</td>\n",
       "      <td>546161216.0</td>\n",
       "      <td>104.382250</td>\n",
       "      <td>2017</td>\n",
       "      <td>7</td>\n",
       "      <td>26</td>\n",
       "      <td>0</td>\n",
       "      <td>0</td>\n",
       "      <td>1</td>\n",
       "    </tr>\n",
       "    <tr>\n",
       "      <th>1018</th>\n",
       "      <td>2044.21</td>\n",
       "      <td>2044.21</td>\n",
       "      <td>2025.91</td>\n",
       "      <td>2040.04</td>\n",
       "      <td>595418112.0</td>\n",
       "      <td>110.114978</td>\n",
       "      <td>2016</td>\n",
       "      <td>5</td>\n",
       "      <td>19</td>\n",
       "      <td>0</td>\n",
       "      <td>0</td>\n",
       "      <td>1</td>\n",
       "    </tr>\n",
       "    <tr>\n",
       "      <th>1046</th>\n",
       "      <td>2042.69</td>\n",
       "      <td>2073.13</td>\n",
       "      <td>2042.69</td>\n",
       "      <td>2070.77</td>\n",
       "      <td>700682624.0</td>\n",
       "      <td>117.689339</td>\n",
       "      <td>2016</td>\n",
       "      <td>6</td>\n",
       "      <td>29</td>\n",
       "      <td>0</td>\n",
       "      <td>0</td>\n",
       "      <td>1</td>\n",
       "    </tr>\n",
       "    <tr>\n",
       "      <th>1149</th>\n",
       "      <td>2198.55</td>\n",
       "      <td>2204.72</td>\n",
       "      <td>2194.51</td>\n",
       "      <td>2204.72</td>\n",
       "      <td>526711808.0</td>\n",
       "      <td>91.136364</td>\n",
       "      <td>2016</td>\n",
       "      <td>11</td>\n",
       "      <td>23</td>\n",
       "      <td>0</td>\n",
       "      <td>0</td>\n",
       "      <td>1</td>\n",
       "    </tr>\n",
       "    <tr>\n",
       "      <th>...</th>\n",
       "      <td>...</td>\n",
       "      <td>...</td>\n",
       "      <td>...</td>\n",
       "      <td>...</td>\n",
       "      <td>...</td>\n",
       "      <td>...</td>\n",
       "      <td>...</td>\n",
       "      <td>...</td>\n",
       "      <td>...</td>\n",
       "      <td>...</td>\n",
       "      <td>...</td>\n",
       "      <td>...</td>\n",
       "    </tr>\n",
       "    <tr>\n",
       "      <th>1130</th>\n",
       "      <td>2144.06</td>\n",
       "      <td>2147.13</td>\n",
       "      <td>2132.52</td>\n",
       "      <td>2133.04</td>\n",
       "      <td>619899264.0</td>\n",
       "      <td>108.791023</td>\n",
       "      <td>2016</td>\n",
       "      <td>10</td>\n",
       "      <td>27</td>\n",
       "      <td>0</td>\n",
       "      <td>0</td>\n",
       "      <td>1</td>\n",
       "    </tr>\n",
       "    <tr>\n",
       "      <th>1294</th>\n",
       "      <td>2434.65</td>\n",
       "      <td>2441.40</td>\n",
       "      <td>2431.11</td>\n",
       "      <td>2438.30</td>\n",
       "      <td>820550304.0</td>\n",
       "      <td>98.818429</td>\n",
       "      <td>2017</td>\n",
       "      <td>6</td>\n",
       "      <td>23</td>\n",
       "      <td>0</td>\n",
       "      <td>0</td>\n",
       "      <td>1</td>\n",
       "    </tr>\n",
       "    <tr>\n",
       "      <th>860</th>\n",
       "      <td>1921.77</td>\n",
       "      <td>1951.36</td>\n",
       "      <td>1893.70</td>\n",
       "      <td>1951.36</td>\n",
       "      <td>785596224.0</td>\n",
       "      <td>149.716981</td>\n",
       "      <td>2015</td>\n",
       "      <td>10</td>\n",
       "      <td>2</td>\n",
       "      <td>0</td>\n",
       "      <td>0</td>\n",
       "      <td>1</td>\n",
       "    </tr>\n",
       "    <tr>\n",
       "      <th>1459</th>\n",
       "      <td>2722.99</td>\n",
       "      <td>2737.60</td>\n",
       "      <td>2706.76</td>\n",
       "      <td>2716.26</td>\n",
       "      <td>571354624.0</td>\n",
       "      <td>86.885911</td>\n",
       "      <td>2018</td>\n",
       "      <td>2</td>\n",
       "      <td>20</td>\n",
       "      <td>0</td>\n",
       "      <td>0</td>\n",
       "      <td>1</td>\n",
       "    </tr>\n",
       "    <tr>\n",
       "      <th>1126</th>\n",
       "      <td>2139.43</td>\n",
       "      <td>2142.63</td>\n",
       "      <td>2130.09</td>\n",
       "      <td>2141.16</td>\n",
       "      <td>658777088.0</td>\n",
       "      <td>100.932503</td>\n",
       "      <td>2016</td>\n",
       "      <td>10</td>\n",
       "      <td>21</td>\n",
       "      <td>0</td>\n",
       "      <td>0</td>\n",
       "      <td>1</td>\n",
       "    </tr>\n",
       "  </tbody>\n",
       "</table>\n",
       "<p>1309 rows × 12 columns</p>\n",
       "</div>"
      ],
      "text/plain": [
       "         open     high      low    close       volume    cont_len  date_year  \\\n",
       "63    1341.29  1341.29  1325.41  1334.76  611763776.0  191.522727       2012   \n",
       "1316  2479.97  2481.69  2474.94  2477.83  546161216.0  104.382250       2017   \n",
       "1018  2044.21  2044.21  2025.91  2040.04  595418112.0  110.114978       2016   \n",
       "1046  2042.69  2073.13  2042.69  2070.77  700682624.0  117.689339       2016   \n",
       "1149  2198.55  2204.72  2194.51  2204.72  526711808.0   91.136364       2016   \n",
       "...       ...      ...      ...      ...          ...         ...        ...   \n",
       "1130  2144.06  2147.13  2132.52  2133.04  619899264.0  108.791023       2016   \n",
       "1294  2434.65  2441.40  2431.11  2438.30  820550304.0   98.818429       2017   \n",
       "860   1921.77  1951.36  1893.70  1951.36  785596224.0  149.716981       2015   \n",
       "1459  2722.99  2737.60  2706.76  2716.26  571354624.0   86.885911       2018   \n",
       "1126  2139.43  2142.63  2130.09  2141.16  658777088.0  100.932503       2016   \n",
       "\n",
       "      date_month  date_day  sent_neg  sent_neu  sent_pos  \n",
       "63             7        12         0         0         1  \n",
       "1316           7        26         0         0         1  \n",
       "1018           5        19         0         0         1  \n",
       "1046           6        29         0         0         1  \n",
       "1149          11        23         0         0         1  \n",
       "...          ...       ...       ...       ...       ...  \n",
       "1130          10        27         0         0         1  \n",
       "1294           6        23         0         0         1  \n",
       "860           10         2         0         0         1  \n",
       "1459           2        20         0         0         1  \n",
       "1126          10        21         0         0         1  \n",
       "\n",
       "[1309 rows x 12 columns]"
      ]
     },
     "execution_count": 12,
     "metadata": {},
     "output_type": "execute_result"
    }
   ],
   "source": [
    "X_train "
   ]
  },
  {
   "cell_type": "code",
   "execution_count": 13,
   "id": "1b170ae4",
   "metadata": {
    "scrolled": true
   },
   "outputs": [
    {
     "data": {
      "text/html": [
       "<div>\n",
       "<style scoped>\n",
       "    .dataframe tbody tr th:only-of-type {\n",
       "        vertical-align: middle;\n",
       "    }\n",
       "\n",
       "    .dataframe tbody tr th {\n",
       "        vertical-align: top;\n",
       "    }\n",
       "\n",
       "    .dataframe thead th {\n",
       "        text-align: right;\n",
       "    }\n",
       "</style>\n",
       "<table border=\"1\" class=\"dataframe\">\n",
       "  <thead>\n",
       "    <tr style=\"text-align: right;\">\n",
       "      <th></th>\n",
       "      <th>open</th>\n",
       "      <th>high</th>\n",
       "      <th>low</th>\n",
       "      <th>close</th>\n",
       "      <th>volume</th>\n",
       "      <th>cont_len</th>\n",
       "      <th>date_year</th>\n",
       "      <th>date_month</th>\n",
       "      <th>date_day</th>\n",
       "      <th>sent_neg</th>\n",
       "      <th>sent_neu</th>\n",
       "      <th>sent_pos</th>\n",
       "    </tr>\n",
       "  </thead>\n",
       "  <tbody>\n",
       "    <tr>\n",
       "      <th>677</th>\n",
       "      <td>2046.13</td>\n",
       "      <td>2049.30</td>\n",
       "      <td>2022.58</td>\n",
       "      <td>2028.26</td>\n",
       "      <td>543538944.0</td>\n",
       "      <td>153.702703</td>\n",
       "      <td>2015</td>\n",
       "      <td>1</td>\n",
       "      <td>12</td>\n",
       "      <td>0</td>\n",
       "      <td>0</td>\n",
       "      <td>1</td>\n",
       "    </tr>\n",
       "    <tr>\n",
       "      <th>1589</th>\n",
       "      <td>2862.35</td>\n",
       "      <td>2876.16</td>\n",
       "      <td>2862.35</td>\n",
       "      <td>2874.69</td>\n",
       "      <td>425807424.0</td>\n",
       "      <td>97.498827</td>\n",
       "      <td>2018</td>\n",
       "      <td>8</td>\n",
       "      <td>24</td>\n",
       "      <td>0</td>\n",
       "      <td>0</td>\n",
       "      <td>1</td>\n",
       "    </tr>\n",
       "    <tr>\n",
       "      <th>984</th>\n",
       "      <td>2056.62</td>\n",
       "      <td>2075.07</td>\n",
       "      <td>2043.98</td>\n",
       "      <td>2072.78</td>\n",
       "      <td>666015104.0</td>\n",
       "      <td>125.892350</td>\n",
       "      <td>2016</td>\n",
       "      <td>4</td>\n",
       "      <td>1</td>\n",
       "      <td>0</td>\n",
       "      <td>0</td>\n",
       "      <td>1</td>\n",
       "    </tr>\n",
       "    <tr>\n",
       "      <th>607</th>\n",
       "      <td>1971.44</td>\n",
       "      <td>1971.44</td>\n",
       "      <td>1941.72</td>\n",
       "      <td>1946.16</td>\n",
       "      <td>612042368.0</td>\n",
       "      <td>162.156863</td>\n",
       "      <td>2014</td>\n",
       "      <td>10</td>\n",
       "      <td>1</td>\n",
       "      <td>0</td>\n",
       "      <td>0</td>\n",
       "      <td>1</td>\n",
       "    </tr>\n",
       "    <tr>\n",
       "      <th>1392</th>\n",
       "      <td>2580.18</td>\n",
       "      <td>2583.81</td>\n",
       "      <td>2575.57</td>\n",
       "      <td>2582.30</td>\n",
       "      <td>514540512.0</td>\n",
       "      <td>98.768220</td>\n",
       "      <td>2017</td>\n",
       "      <td>11</td>\n",
       "      <td>10</td>\n",
       "      <td>0</td>\n",
       "      <td>0</td>\n",
       "      <td>1</td>\n",
       "    </tr>\n",
       "    <tr>\n",
       "      <th>...</th>\n",
       "      <td>...</td>\n",
       "      <td>...</td>\n",
       "      <td>...</td>\n",
       "      <td>...</td>\n",
       "      <td>...</td>\n",
       "      <td>...</td>\n",
       "      <td>...</td>\n",
       "      <td>...</td>\n",
       "      <td>...</td>\n",
       "      <td>...</td>\n",
       "      <td>...</td>\n",
       "      <td>...</td>\n",
       "    </tr>\n",
       "    <tr>\n",
       "      <th>1289</th>\n",
       "      <td>2431.24</td>\n",
       "      <td>2433.15</td>\n",
       "      <td>2422.88</td>\n",
       "      <td>2433.15</td>\n",
       "      <td>820550304.0</td>\n",
       "      <td>102.826122</td>\n",
       "      <td>2017</td>\n",
       "      <td>6</td>\n",
       "      <td>16</td>\n",
       "      <td>0</td>\n",
       "      <td>0</td>\n",
       "      <td>1</td>\n",
       "    </tr>\n",
       "    <tr>\n",
       "      <th>306</th>\n",
       "      <td>1696.63</td>\n",
       "      <td>1698.78</td>\n",
       "      <td>1691.13</td>\n",
       "      <td>1692.39</td>\n",
       "      <td>459706016.0</td>\n",
       "      <td>117.416667</td>\n",
       "      <td>2013</td>\n",
       "      <td>7</td>\n",
       "      <td>23</td>\n",
       "      <td>0</td>\n",
       "      <td>0</td>\n",
       "      <td>1</td>\n",
       "    </tr>\n",
       "    <tr>\n",
       "      <th>192</th>\n",
       "      <td>1501.96</td>\n",
       "      <td>1504.19</td>\n",
       "      <td>1496.76</td>\n",
       "      <td>1498.11</td>\n",
       "      <td>740722880.0</td>\n",
       "      <td>139.823529</td>\n",
       "      <td>2013</td>\n",
       "      <td>1</td>\n",
       "      <td>31</td>\n",
       "      <td>0</td>\n",
       "      <td>0</td>\n",
       "      <td>1</td>\n",
       "    </tr>\n",
       "    <tr>\n",
       "      <th>309</th>\n",
       "      <td>1687.31</td>\n",
       "      <td>1691.85</td>\n",
       "      <td>1676.03</td>\n",
       "      <td>1691.65</td>\n",
       "      <td>466156032.0</td>\n",
       "      <td>114.176471</td>\n",
       "      <td>2013</td>\n",
       "      <td>7</td>\n",
       "      <td>26</td>\n",
       "      <td>1</td>\n",
       "      <td>0</td>\n",
       "      <td>0</td>\n",
       "    </tr>\n",
       "    <tr>\n",
       "      <th>654</th>\n",
       "      <td>2074.84</td>\n",
       "      <td>2075.78</td>\n",
       "      <td>2054.27</td>\n",
       "      <td>2060.31</td>\n",
       "      <td>561256448.0</td>\n",
       "      <td>116.857143</td>\n",
       "      <td>2014</td>\n",
       "      <td>12</td>\n",
       "      <td>8</td>\n",
       "      <td>0</td>\n",
       "      <td>0</td>\n",
       "      <td>1</td>\n",
       "    </tr>\n",
       "  </tbody>\n",
       "</table>\n",
       "<p>328 rows × 12 columns</p>\n",
       "</div>"
      ],
      "text/plain": [
       "         open     high      low    close       volume    cont_len  date_year  \\\n",
       "677   2046.13  2049.30  2022.58  2028.26  543538944.0  153.702703       2015   \n",
       "1589  2862.35  2876.16  2862.35  2874.69  425807424.0   97.498827       2018   \n",
       "984   2056.62  2075.07  2043.98  2072.78  666015104.0  125.892350       2016   \n",
       "607   1971.44  1971.44  1941.72  1946.16  612042368.0  162.156863       2014   \n",
       "1392  2580.18  2583.81  2575.57  2582.30  514540512.0   98.768220       2017   \n",
       "...       ...      ...      ...      ...          ...         ...        ...   \n",
       "1289  2431.24  2433.15  2422.88  2433.15  820550304.0  102.826122       2017   \n",
       "306   1696.63  1698.78  1691.13  1692.39  459706016.0  117.416667       2013   \n",
       "192   1501.96  1504.19  1496.76  1498.11  740722880.0  139.823529       2013   \n",
       "309   1687.31  1691.85  1676.03  1691.65  466156032.0  114.176471       2013   \n",
       "654   2074.84  2075.78  2054.27  2060.31  561256448.0  116.857143       2014   \n",
       "\n",
       "      date_month  date_day  sent_neg  sent_neu  sent_pos  \n",
       "677            1        12         0         0         1  \n",
       "1589           8        24         0         0         1  \n",
       "984            4         1         0         0         1  \n",
       "607           10         1         0         0         1  \n",
       "1392          11        10         0         0         1  \n",
       "...          ...       ...       ...       ...       ...  \n",
       "1289           6        16         0         0         1  \n",
       "306            7        23         0         0         1  \n",
       "192            1        31         0         0         1  \n",
       "309            7        26         1         0         0  \n",
       "654           12         8         0         0         1  \n",
       "\n",
       "[328 rows x 12 columns]"
      ]
     },
     "execution_count": 13,
     "metadata": {},
     "output_type": "execute_result"
    }
   ],
   "source": [
    "X_test"
   ]
  },
  {
   "cell_type": "code",
   "execution_count": 14,
   "id": "fd317b1e",
   "metadata": {},
   "outputs": [
    {
     "data": {
      "text/plain": [
       "63      0\n",
       "1316    1\n",
       "1018    0\n",
       "1046    1\n",
       "1149    1\n",
       "       ..\n",
       "1130    0\n",
       "1294    1\n",
       "860     1\n",
       "1459    0\n",
       "1126    0\n",
       "Name: target_variable, Length: 1309, dtype: int64"
      ]
     },
     "execution_count": 14,
     "metadata": {},
     "output_type": "execute_result"
    }
   ],
   "source": [
    "y_train"
   ]
  },
  {
   "cell_type": "markdown",
   "id": "e085c633",
   "metadata": {},
   "source": [
    "Scaling:\n",
    "\n",
    "1. Even after removing all the outliers we can see our data has varying scales.\n",
    "2. We saw in EDA that our data has Gaussian (Normal) Distribution.\n",
    "\\\n",
    "So, \n",
    "lets do standardization before going for Logistic Regression.\n",
    "\n",
    "\n"
   ]
  },
  {
   "cell_type": "code",
   "execution_count": 15,
   "id": "9033e82a",
   "metadata": {},
   "outputs": [],
   "source": [
    "from sklearn.preprocessing import StandardScaler\n",
    "sc = StandardScaler()\n",
    "X_train = sc.fit_transform(X_train)\n",
    "X_test = sc.transform(X_test)"
   ]
  },
  {
   "cell_type": "code",
   "execution_count": 16,
   "id": "d662761a",
   "metadata": {
    "scrolled": true
   },
   "outputs": [
    {
     "data": {
      "text/plain": [
       "LogisticRegression()"
      ]
     },
     "execution_count": 16,
     "metadata": {},
     "output_type": "execute_result"
    }
   ],
   "source": [
    "from sklearn.linear_model import LogisticRegression\n",
    "\n",
    "log_reg = LogisticRegression()\n",
    "log_reg.fit(X_train, y_train)"
   ]
  },
  {
   "cell_type": "code",
   "execution_count": 17,
   "id": "9855a8c7",
   "metadata": {
    "scrolled": true
   },
   "outputs": [
    {
     "data": {
      "text/plain": [
       "array([1, 1, 1, 0, 1, 1, 1, 1, 0, 1, 1, 1, 1, 1, 1, 1, 0, 1, 1, 1, 1, 0,\n",
       "       1, 0, 0, 1, 1, 1, 1, 0, 1, 1, 1, 0, 1, 1, 0, 1, 0, 1, 1, 0, 1, 0,\n",
       "       1, 1, 1, 1, 1, 1, 1, 1, 1, 1, 1, 1, 1, 0, 1, 1, 1, 1, 1, 1, 1, 1,\n",
       "       1, 1, 1, 1, 1, 1, 0, 1, 1, 1, 1, 1, 1, 1, 0, 1, 0, 1, 1, 1, 1, 1,\n",
       "       1, 1, 1, 0, 1, 1, 1, 1, 1, 1, 0, 1, 0, 1, 1, 1, 1, 0, 1, 1, 1, 1,\n",
       "       0, 1, 0, 1, 1, 1, 0, 1, 1, 1, 1, 1, 0, 0, 0, 1, 1, 0, 0, 1, 1, 0,\n",
       "       0, 1, 0, 1, 1, 1, 1, 0, 1, 1, 1, 1, 1, 1, 1, 1, 1, 1, 0, 0, 1, 1,\n",
       "       1, 0, 1, 1, 1, 1, 1, 0, 1, 1, 0, 1, 0, 1, 1, 1, 1, 1, 1, 1, 1, 1,\n",
       "       1, 1, 1, 0, 1, 1, 0, 1, 1, 1, 0, 1, 0, 1, 1, 1, 1, 0, 1, 1, 1, 1,\n",
       "       0, 0, 1, 1, 1, 0, 0, 1, 1, 1, 1, 1, 1, 1, 1, 1, 0, 0, 0, 1, 1, 1,\n",
       "       1, 1, 1, 1, 1, 1, 1, 1, 1, 0, 1, 1, 1, 1, 0, 1, 1, 0, 1, 1, 0, 1,\n",
       "       1, 1, 0, 0, 1, 1, 0, 1, 1, 1, 1, 1, 1, 0, 1, 1, 1, 1, 0, 0, 1, 1,\n",
       "       1, 0, 1, 0, 1, 1, 1, 1, 1, 1, 1, 1, 1, 1, 0, 1, 0, 1, 1, 1, 0, 1,\n",
       "       1, 0, 1, 1, 0, 0, 0, 0, 0, 1, 1, 0, 1, 1, 1, 0, 1, 0, 1, 1, 1, 0,\n",
       "       0, 0, 1, 1, 1, 0, 1, 1, 1, 1, 0, 1, 1, 1, 0, 0, 1, 0, 1, 0])"
      ]
     },
     "execution_count": 17,
     "metadata": {},
     "output_type": "execute_result"
    }
   ],
   "source": [
    "y_pred = log_reg.predict(X_test)\n",
    "y_pred"
   ]
  },
  {
   "cell_type": "markdown",
   "id": "b847cd0e",
   "metadata": {},
   "source": [
    "## Calculate the differences between y_train and y_train'"
   ]
  },
  {
   "cell_type": "code",
   "execution_count": 18,
   "id": "7916b3c1",
   "metadata": {},
   "outputs": [
    {
     "name": "stdout",
     "output_type": "stream",
     "text": [
      "The differences between actual y_train and trained y_train seems to be  0.6875477463712758\n"
     ]
    }
   ],
   "source": [
    "score1 = log_reg.score(X_train, y_train)\n",
    "print('The differences between actual y_train and trained y_train seems to be ', score1)"
   ]
  },
  {
   "cell_type": "markdown",
   "id": "905dae14",
   "metadata": {},
   "source": [
    "## Calculate the differences between y_pred and y_test"
   ]
  },
  {
   "cell_type": "code",
   "execution_count": 19,
   "id": "fc23645c",
   "metadata": {},
   "outputs": [
    {
     "name": "stdout",
     "output_type": "stream",
     "text": [
      "The differences between actual y_test and trained y_pred seems to be  0.676829268292683\n"
     ]
    }
   ],
   "source": [
    "score2 = log_reg.score(X_test, y_test)\n",
    "print('The differences between actual y_test and trained y_pred seems to be ', score2)"
   ]
  },
  {
   "cell_type": "markdown",
   "id": "68b8abdb",
   "metadata": {},
   "source": [
    "# Evaluation metrics\n",
    "\n",
    "Since, our project is a classification problem.Let's get the classification report, accuracy and confusion matrix."
   ]
  },
  {
   "cell_type": "code",
   "execution_count": 20,
   "id": "43a77da6",
   "metadata": {},
   "outputs": [
    {
     "name": "stdout",
     "output_type": "stream",
     "text": [
      "              precision    recall  f1-score   support\n",
      "\n",
      "           0       0.83      0.43      0.57       161\n",
      "           1       0.62      0.92      0.74       167\n",
      "\n",
      "    accuracy                           0.68       328\n",
      "   macro avg       0.73      0.67      0.65       328\n",
      "weighted avg       0.73      0.68      0.66       328\n",
      "\n",
      "The accuracy score is  0.676829268292683 / 67.6829268292683 %.\n"
     ]
    }
   ],
   "source": [
    "from sklearn.metrics import classification_report, accuracy_score\n",
    "\n",
    "y_pred = log_reg.predict(X_test)\n",
    "print(classification_report(y_test,y_pred))\n",
    "acc_score = accuracy_score(y_test,y_pred)\n",
    "acc_score_per = acc_score * 100\n",
    "print('The accuracy score is ', acc_score, '/', acc_score_per , '%.')"
   ]
  },
  {
   "cell_type": "markdown",
   "id": "12c88c5c",
   "metadata": {},
   "source": [
    "## Confusion Matrix"
   ]
  },
  {
   "cell_type": "code",
   "execution_count": 21,
   "id": "ac0de351",
   "metadata": {},
   "outputs": [
    {
     "data": {
      "text/plain": [
       "array([[ 69,  92],\n",
       "       [ 14, 153]])"
      ]
     },
     "execution_count": 21,
     "metadata": {},
     "output_type": "execute_result"
    }
   ],
   "source": [
    "from sklearn.metrics import confusion_matrix\n",
    "confusion_matrix(y_test,y_pred)"
   ]
  },
  {
   "cell_type": "markdown",
   "id": "8aa1a179",
   "metadata": {},
   "source": [
    "### Let's see the value of Confusion matrix details via Heatmap."
   ]
  },
  {
   "cell_type": "code",
   "execution_count": 22,
   "id": "316225ad",
   "metadata": {},
   "outputs": [
    {
     "data": {
      "text/plain": [
       "Text(30.5, 0.5, 'True Label')"
      ]
     },
     "execution_count": 22,
     "metadata": {},
     "output_type": "execute_result"
    },
    {
     "data": {
      "image/png": "[encoded data removed]",
      "text/plain": [
       "<Figure size 432x288 with 2 Axes>"
      ]
     },
     "metadata": {},
     "output_type": "display_data"
    }
   ],
   "source": [
    "cm = confusion_matrix(y_test,y_pred)\n",
    "sns.heatmap(cm,annot=True,fmt='g',cmap='Blues')\n",
    "plt.xlabel('Predicted Label')\n",
    "plt.ylabel('True Label')"
   ]
  },
  {
   "cell_type": "markdown",
   "id": "2cb355ba",
   "metadata": {},
   "source": [
    "### Summary:\n",
    "\n",
    "True Negative: 68\n",
    "\\\n",
    "False Positive: 93\n",
    "\\\n",
    "False Negative: 12\n",
    "\\\n",
    "True Positive: 155\n"
   ]
  },
  {
   "cell_type": "markdown",
   "id": "12fa1b12",
   "metadata": {},
   "source": [
    "## Reciever Operating Characteristics Curve (ROC Curve)\n",
    "\n",
    "It plots the graph of the False Positive Rate (x-axis) vs the True positive rate (Y-axis).\n",
    "\\\n",
    "Let's see the performance of our Classification model at all classification thresholds (0-1)."
   ]
  },
  {
   "cell_type": "code",
   "execution_count": 23,
   "id": "16c86631",
   "metadata": {
    "scrolled": true
   },
   "outputs": [
    {
     "data": {
      "image/png": "[encoded data removed]",
      "text/plain": [
       "<Figure size 432x288 with 1 Axes>"
      ]
     },
     "metadata": {},
     "output_type": "display_data"
    },
    {
     "name": "stdout",
     "output_type": "stream",
     "text": [
      "The ROC score is  0.8166400119016626 / 81.66400119016626 %.\n"
     ]
    }
   ],
   "source": [
    "from sklearn.metrics import roc_curve, roc_auc_score, auc\n",
    "\n",
    "pred_prob = log_reg.predict_proba(X_test)[::,1]\n",
    "fpr_log,tpr_log,_ =roc_curve(y_test, pred_prob)\n",
    "roc_score = roc_auc_score(y_test, pred_prob)\n",
    "roc_score_per = roc_score * 100\n",
    "\n",
    "plt.plot(fpr_log,tpr_log,label = 'LogisticRegression auc={:.4f}'.format(roc_score))\n",
    "plt.plot([0,1],[0,1],'k--')\n",
    "plt.xlabel('False Positive Rate')\n",
    "plt.ylabel('True Positive Rate')\n",
    "plt.title('AUC-ROC Curve of Logistic Regression')\n",
    "plt.legend(loc=4)\n",
    "plt.show()\n",
    "\n",
    "print('The ROC score is ', roc_score, '/', roc_score_per , '%.')\n"
   ]
  },
  {
   "cell_type": "markdown",
   "id": "d453fee8",
   "metadata": {},
   "source": [
    "## Summary:\n",
    "\n",
    "The left corner of our model is quite near to top-left corner but not exactly so the roc curve of our model is average.\n",
    "\\\n",
    "In general AUC of 0.8-0.9 is considered good but above 0.9 is considered excellent.\n",
    "\\\n",
    "And also our accuracy score for model is not that good so let's try some Hyperparameter tuning."
   ]
  },
  {
   "cell_type": "markdown",
   "id": "c2fd2b48",
   "metadata": {},
   "source": [
    "# Hyperparameter Tuning\n",
    "\n",
    "There are various different methods for Hyperparameter Tuning But we don't have that great number of independent features so we'll choose GridSearchCV for hyperparameter tuning for our model. \n",
    "\\\n",
    "Most of the variables in algorithms cannot be changed (parameters) but we can change few parameterss (Hyperparameters) to tune our Logistic Regression model like:\n",
    "\n",
    "    1. estimator: In this we have to pass the models or functions on which we want to use GridSearchCV\n",
    "    2. param_grid: Dictionary or list of parameters of models or function in which GridSearchCV have to select the best.\n",
    "    3. Scoring: It is used as a evaluating metric for the model performance to decide the best hyperparameters, if not especified then it uses estimator score.\n",
    "    4. cv : In this we have to pass a interger value, as it signifies the number of splits that is needed for cross validation. By default is set as five.\n",
    "    5. n_jobs : This signifies the number of jobs to be run in parallel, -1 signifies to use all processor.\n"
   ]
  },
  {
   "cell_type": "code",
   "execution_count": 24,
   "id": "fefdf8f8",
   "metadata": {},
   "outputs": [],
   "source": [
    "from sklearn.model_selection import GridSearchCV\n",
    "\n",
    "#Penalty for handling the overfitting and underfitting\n",
    "penalty=['l1', 'l2', 'elasticnet']\n",
    "#Algorithm to use in the optimization problem.\n",
    "solver=['newton-cg', 'lbfgs', 'liblinear', 'sag', 'saga']\n",
    "#Maximum number of iterations taken for the solvers to converge\n",
    "max_iter=[100,200,300,350]"
   ]
  },
  {
   "cell_type": "code",
   "execution_count": 25,
   "id": "bd2670c7",
   "metadata": {},
   "outputs": [],
   "source": [
    "#creating a random grid\n",
    "random_grid={'penalty':penalty,\n",
    "             'solver':solver,\n",
    "             'max_iter':max_iter,\n",
    "             }"
   ]
  },
  {
   "cell_type": "code",
   "execution_count": 26,
   "id": "ef8b9de6",
   "metadata": {},
   "outputs": [],
   "source": [
    "# Cross validation - 20\n",
    "log_reg_grid_search= GridSearchCV(estimator=log_reg, param_grid=random_grid, cv=20, n_jobs=-1, verbose=2)"
   ]
  },
  {
   "cell_type": "code",
   "execution_count": 27,
   "id": "6b06eb86",
   "metadata": {},
   "outputs": [
    {
     "name": "stdout",
     "output_type": "stream",
     "text": [
      "Fitting 20 folds for each of 60 candidates, totalling 1200 fits\n"
     ]
    },
    {
     "data": {
      "text/plain": [
       "GridSearchCV(cv=20, estimator=LogisticRegression(), n_jobs=-1,\n",
       "             param_grid={'max_iter': [100, 200, 300, 350],\n",
       "                         'penalty': ['l1', 'l2', 'elasticnet'],\n",
       "                         'solver': ['newton-cg', 'lbfgs', 'liblinear', 'sag',\n",
       "                                    'saga']},\n",
       "             verbose=2)"
      ]
     },
     "execution_count": 27,
     "metadata": {},
     "output_type": "execute_result"
    }
   ],
   "source": [
    "log_reg_grid_search.fit(X_train,y_train)"
   ]
  },
  {
   "cell_type": "code",
   "execution_count": 28,
   "id": "fb3441cf",
   "metadata": {},
   "outputs": [
    {
     "data": {
      "text/plain": [
       "{'max_iter': 100, 'penalty': 'l1', 'solver': 'liblinear'}"
      ]
     },
     "execution_count": 28,
     "metadata": {},
     "output_type": "execute_result"
    }
   ],
   "source": [
    "log_reg_grid_search.best_params_\n"
   ]
  },
  {
   "cell_type": "code",
   "execution_count": 29,
   "id": "09f52bf5",
   "metadata": {
    "scrolled": true
   },
   "outputs": [
    {
     "name": "stdout",
     "output_type": "stream",
     "text": [
      "The differences between actual y_train and trained y_train seems to be  0.894576012223071\n",
      "The differences between actual y_test and trained y_pred seems to be  0.9390243902439024\n"
     ]
    }
   ],
   "source": [
    "score1 = log_reg_grid_search.score(X_train, y_train)\n",
    "print('The differences between actual y_train and trained y_train seems to be ', score1)\n",
    "\n",
    "score2 = log_reg_grid_search.score(X_test, y_test)\n",
    "print('The differences between actual y_test and trained y_pred seems to be ', score2)"
   ]
  },
  {
   "cell_type": "code",
   "execution_count": 30,
   "id": "5db6c50f",
   "metadata": {},
   "outputs": [
    {
     "name": "stdout",
     "output_type": "stream",
     "text": [
      "              precision    recall  f1-score   support\n",
      "\n",
      "           0       0.95      0.92      0.94       161\n",
      "           1       0.92      0.96      0.94       167\n",
      "\n",
      "    accuracy                           0.94       328\n",
      "   macro avg       0.94      0.94      0.94       328\n",
      "weighted avg       0.94      0.94      0.94       328\n",
      "\n",
      "The accuracy score is  0.9390243902439024 / 93.90243902439023 %.\n"
     ]
    }
   ],
   "source": [
    "from sklearn.metrics import classification_report, accuracy_score\n",
    "\n",
    "y_pred = log_reg_grid_search.predict(X_test)\n",
    "print(classification_report(y_test,y_pred))\n",
    "acc_score = accuracy_score(y_test,y_pred)\n",
    "acc_score_per = acc_score * 100\n",
    "print('The accuracy score is ', acc_score, '/', acc_score_per , '%.')"
   ]
  },
  {
   "cell_type": "markdown",
   "id": "73ebab26",
   "metadata": {},
   "source": [
    "## Summary:\n",
    "\n",
    "Accuracy score:\n",
    "\n",
    "Before Hyperparameter tuning: 0.6798780487804879 / 67.98780487804879 %.\n",
    "\\\n",
    "After Hyperparameter tunign: 0.9390243902439024 / 93.90243902439023 %.\n",
    "\n",
    "Hence, we can see how our accuracy has gradually changed after Hyperparameter tuning. "
   ]
  },
  {
   "cell_type": "code",
   "execution_count": 31,
   "id": "c6a6306d",
   "metadata": {},
   "outputs": [
    {
     "data": {
      "text/plain": [
       "array([[148,  13],\n",
       "       [  7, 160]])"
      ]
     },
     "execution_count": 31,
     "metadata": {},
     "output_type": "execute_result"
    }
   ],
   "source": [
    "from sklearn.metrics import confusion_matrix\n",
    "confusion_matrix(y_test,y_pred)"
   ]
  },
  {
   "cell_type": "code",
   "execution_count": 32,
   "id": "079ec99a",
   "metadata": {},
   "outputs": [
    {
     "data": {
      "text/plain": [
       "Text(30.5, 0.5, 'True Label')"
      ]
     },
     "execution_count": 32,
     "metadata": {},
     "output_type": "execute_result"
    },
    {
     "data": {
      "image/png": "[encoded data removed]",
      "text/plain": [
       "<Figure size 432x288 with 2 Axes>"
      ]
     },
     "metadata": {},
     "output_type": "display_data"
    }
   ],
   "source": [
    "cm = confusion_matrix(y_test,y_pred)\n",
    "sns.heatmap(cm,annot=True,fmt='g',cmap='Blues')\n",
    "plt.xlabel('Predicted Label')\n",
    "plt.ylabel('True Label')"
   ]
  },
  {
   "cell_type": "markdown",
   "id": "51ca3af3",
   "metadata": {},
   "source": [
    "### Summary:\n",
    "\n",
    "True Negative: 148 (Before Hyperparameter Tuning: 68)\n",
    "\\\n",
    "False Positive: 13 (Before Hyperparameter Tuning: 93)\n",
    "\\\n",
    "False Negative: 7 (Before Hyperparameter Tuning: 12)\n",
    "\\\n",
    "True Positive: 160 (Before Hyperparameter Tuning: 155)\n",
    "\n",
    "Hence, we can say our model is doing great after hyperparameter tuning.\n"
   ]
  },
  {
   "cell_type": "code",
   "execution_count": 33,
   "id": "5a65785a",
   "metadata": {
    "scrolled": true
   },
   "outputs": [
    {
     "data": {
      "image/png": "[encoded data removed]",
      "text/plain": [
       "<Figure size 432x288 with 1 Axes>"
      ]
     },
     "metadata": {},
     "output_type": "display_data"
    },
    {
     "name": "stdout",
     "output_type": "stream",
     "text": [
      "The AUC is  0.9899207795588946 / 98.99207795588946 %.\n"
     ]
    }
   ],
   "source": [
    "from sklearn.metrics import roc_curve, roc_auc_score, auc\n",
    "\n",
    "pred_prob = log_reg_grid_search.predict_proba(X_test)[::,1]\n",
    "fpr_log,tpr_log,_ =roc_curve(y_test, pred_prob)\n",
    "roc_score = roc_auc_score(y_test, pred_prob)\n",
    "roc_score_per = roc_score * 100\n",
    "\n",
    "plt.plot(fpr_log,tpr_log,label = 'LogisticRegression auc={:.4f}'.format(roc_score))\n",
    "plt.plot([0,1],[0,1],'k--')\n",
    "plt.xlabel('False Positive Rate')\n",
    "plt.ylabel('True Positive Rate')\n",
    "plt.title('AUC-ROC Curve of Logistic Regression')\n",
    "plt.legend(loc=4)\n",
    "plt.show()\n",
    "\n",
    "print('The AUC is ', roc_score, '/', roc_score_per , '%.')\n"
   ]
  },
  {
   "cell_type": "markdown",
   "id": "9a599516",
   "metadata": {},
   "source": [
    "# Summary:\n",
    "\n",
    "1. The AUC score is  0.98988358686354 / 98.988358686354 % (AUC value about 0.9 is considered outstanding). Hence \n",
    "model has satisfying AUC score.\n",
    "2. From the curve also we can see, the line is so close to top-left corner. Hence, our model is really good."
   ]
  },
  {
   "cell_type": "code",
   "execution_count": 34,
   "id": "736f3c1d",
   "metadata": {},
   "outputs": [
    {
     "data": {
      "text/html": [
       "<div>\n",
       "<style scoped>\n",
       "    .dataframe tbody tr th:only-of-type {\n",
       "        vertical-align: middle;\n",
       "    }\n",
       "\n",
       "    .dataframe tbody tr th {\n",
       "        vertical-align: top;\n",
       "    }\n",
       "\n",
       "    .dataframe thead th {\n",
       "        text-align: right;\n",
       "    }\n",
       "</style>\n",
       "<table border=\"1\" class=\"dataframe\">\n",
       "  <thead>\n",
       "    <tr style=\"text-align: right;\">\n",
       "      <th></th>\n",
       "      <th>open_price</th>\n",
       "      <th>high</th>\n",
       "      <th>low</th>\n",
       "      <th>close</th>\n",
       "      <th>volume</th>\n",
       "      <th>date_parsed</th>\n",
       "      <th>cont_len</th>\n",
       "      <th>cont_pol</th>\n",
       "      <th>cont_sent</th>\n",
       "      <th>date_year</th>\n",
       "      <th>date_month</th>\n",
       "      <th>date_day</th>\n",
       "      <th>sent_neg</th>\n",
       "      <th>sent_neu</th>\n",
       "      <th>sent_pos</th>\n",
       "      <th>target_variable</th>\n",
       "    </tr>\n",
       "  </thead>\n",
       "  <tbody>\n",
       "    <tr>\n",
       "      <th>0</th>\n",
       "      <td>1358.98</td>\n",
       "      <td>1374.71</td>\n",
       "      <td>1358.98</td>\n",
       "      <td>1368.70</td>\n",
       "      <td>593003200.0</td>\n",
       "      <td>2012-04-11</td>\n",
       "      <td>108.142857</td>\n",
       "      <td>0.01</td>\n",
       "      <td>Positive</td>\n",
       "      <td>2012</td>\n",
       "      <td>4</td>\n",
       "      <td>11</td>\n",
       "      <td>0</td>\n",
       "      <td>0</td>\n",
       "      <td>1</td>\n",
       "      <td>0</td>\n",
       "    </tr>\n",
       "    <tr>\n",
       "      <th>1</th>\n",
       "      <td>1368.77</td>\n",
       "      <td>1388.13</td>\n",
       "      <td>1368.77</td>\n",
       "      <td>1387.56</td>\n",
       "      <td>547368832.0</td>\n",
       "      <td>2012-04-12</td>\n",
       "      <td>75.000000</td>\n",
       "      <td>0.11</td>\n",
       "      <td>Positive</td>\n",
       "      <td>2012</td>\n",
       "      <td>4</td>\n",
       "      <td>12</td>\n",
       "      <td>0</td>\n",
       "      <td>0</td>\n",
       "      <td>1</td>\n",
       "      <td>1</td>\n",
       "    </tr>\n",
       "    <tr>\n",
       "      <th>2</th>\n",
       "      <td>1387.61</td>\n",
       "      <td>1387.61</td>\n",
       "      <td>1369.85</td>\n",
       "      <td>1370.26</td>\n",
       "      <td>631237824.0</td>\n",
       "      <td>2012-04-13</td>\n",
       "      <td>73.000000</td>\n",
       "      <td>0.00</td>\n",
       "      <td>Neutral</td>\n",
       "      <td>2012</td>\n",
       "      <td>4</td>\n",
       "      <td>13</td>\n",
       "      <td>0</td>\n",
       "      <td>1</td>\n",
       "      <td>0</td>\n",
       "      <td>0</td>\n",
       "    </tr>\n",
       "    <tr>\n",
       "      <th>3</th>\n",
       "      <td>1370.27</td>\n",
       "      <td>1379.66</td>\n",
       "      <td>1365.38</td>\n",
       "      <td>1369.57</td>\n",
       "      <td>596952128.0</td>\n",
       "      <td>2012-04-16</td>\n",
       "      <td>188.500000</td>\n",
       "      <td>0.13</td>\n",
       "      <td>Positive</td>\n",
       "      <td>2012</td>\n",
       "      <td>4</td>\n",
       "      <td>16</td>\n",
       "      <td>0</td>\n",
       "      <td>0</td>\n",
       "      <td>1</td>\n",
       "      <td>0</td>\n",
       "    </tr>\n",
       "    <tr>\n",
       "      <th>4</th>\n",
       "      <td>1369.57</td>\n",
       "      <td>1392.76</td>\n",
       "      <td>1369.57</td>\n",
       "      <td>1390.78</td>\n",
       "      <td>566529216.0</td>\n",
       "      <td>2012-04-17</td>\n",
       "      <td>235.529412</td>\n",
       "      <td>0.10</td>\n",
       "      <td>Positive</td>\n",
       "      <td>2012</td>\n",
       "      <td>4</td>\n",
       "      <td>17</td>\n",
       "      <td>0</td>\n",
       "      <td>0</td>\n",
       "      <td>1</td>\n",
       "      <td>1</td>\n",
       "    </tr>\n",
       "    <tr>\n",
       "      <th>...</th>\n",
       "      <td>...</td>\n",
       "      <td>...</td>\n",
       "      <td>...</td>\n",
       "      <td>...</td>\n",
       "      <td>...</td>\n",
       "      <td>...</td>\n",
       "      <td>...</td>\n",
       "      <td>...</td>\n",
       "      <td>...</td>\n",
       "      <td>...</td>\n",
       "      <td>...</td>\n",
       "      <td>...</td>\n",
       "      <td>...</td>\n",
       "      <td>...</td>\n",
       "      <td>...</td>\n",
       "      <td>...</td>\n",
       "    </tr>\n",
       "    <tr>\n",
       "      <th>1632</th>\n",
       "      <td>2674.88</td>\n",
       "      <td>2722.70</td>\n",
       "      <td>2667.84</td>\n",
       "      <td>2705.57</td>\n",
       "      <td>767958464.0</td>\n",
       "      <td>2018-10-25</td>\n",
       "      <td>89.500580</td>\n",
       "      <td>0.04</td>\n",
       "      <td>Positive</td>\n",
       "      <td>2018</td>\n",
       "      <td>10</td>\n",
       "      <td>25</td>\n",
       "      <td>0</td>\n",
       "      <td>0</td>\n",
       "      <td>1</td>\n",
       "      <td>1</td>\n",
       "    </tr>\n",
       "    <tr>\n",
       "      <th>1633</th>\n",
       "      <td>2667.86</td>\n",
       "      <td>2692.38</td>\n",
       "      <td>2628.16</td>\n",
       "      <td>2658.69</td>\n",
       "      <td>820550304.0</td>\n",
       "      <td>2018-10-26</td>\n",
       "      <td>90.076709</td>\n",
       "      <td>0.04</td>\n",
       "      <td>Positive</td>\n",
       "      <td>2018</td>\n",
       "      <td>10</td>\n",
       "      <td>26</td>\n",
       "      <td>0</td>\n",
       "      <td>0</td>\n",
       "      <td>1</td>\n",
       "      <td>0</td>\n",
       "    </tr>\n",
       "    <tr>\n",
       "      <th>1634</th>\n",
       "      <td>2682.65</td>\n",
       "      <td>2706.85</td>\n",
       "      <td>2603.54</td>\n",
       "      <td>2641.25</td>\n",
       "      <td>778263680.0</td>\n",
       "      <td>2018-10-29</td>\n",
       "      <td>98.429104</td>\n",
       "      <td>0.03</td>\n",
       "      <td>Positive</td>\n",
       "      <td>2018</td>\n",
       "      <td>10</td>\n",
       "      <td>29</td>\n",
       "      <td>0</td>\n",
       "      <td>0</td>\n",
       "      <td>1</td>\n",
       "      <td>0</td>\n",
       "    </tr>\n",
       "    <tr>\n",
       "      <th>1635</th>\n",
       "      <td>2640.68</td>\n",
       "      <td>2685.43</td>\n",
       "      <td>2635.34</td>\n",
       "      <td>2682.63</td>\n",
       "      <td>820550304.0</td>\n",
       "      <td>2018-10-30</td>\n",
       "      <td>95.842273</td>\n",
       "      <td>0.03</td>\n",
       "      <td>Positive</td>\n",
       "      <td>2018</td>\n",
       "      <td>10</td>\n",
       "      <td>30</td>\n",
       "      <td>0</td>\n",
       "      <td>0</td>\n",
       "      <td>1</td>\n",
       "      <td>1</td>\n",
       "    </tr>\n",
       "    <tr>\n",
       "      <th>1636</th>\n",
       "      <td>2705.60</td>\n",
       "      <td>2736.69</td>\n",
       "      <td>2705.60</td>\n",
       "      <td>2711.74</td>\n",
       "      <td>820550304.0</td>\n",
       "      <td>2018-10-31</td>\n",
       "      <td>97.751851</td>\n",
       "      <td>0.04</td>\n",
       "      <td>Positive</td>\n",
       "      <td>2018</td>\n",
       "      <td>10</td>\n",
       "      <td>31</td>\n",
       "      <td>0</td>\n",
       "      <td>0</td>\n",
       "      <td>1</td>\n",
       "      <td>1</td>\n",
       "    </tr>\n",
       "  </tbody>\n",
       "</table>\n",
       "<p>1637 rows × 16 columns</p>\n",
       "</div>"
      ],
      "text/plain": [
       "      open_price     high      low    close       volume date_parsed  \\\n",
       "0        1358.98  1374.71  1358.98  1368.70  593003200.0  2012-04-11   \n",
       "1        1368.77  1388.13  1368.77  1387.56  547368832.0  2012-04-12   \n",
       "2        1387.61  1387.61  1369.85  1370.26  631237824.0  2012-04-13   \n",
       "3        1370.27  1379.66  1365.38  1369.57  596952128.0  2012-04-16   \n",
       "4        1369.57  1392.76  1369.57  1390.78  566529216.0  2012-04-17   \n",
       "...          ...      ...      ...      ...          ...         ...   \n",
       "1632     2674.88  2722.70  2667.84  2705.57  767958464.0  2018-10-25   \n",
       "1633     2667.86  2692.38  2628.16  2658.69  820550304.0  2018-10-26   \n",
       "1634     2682.65  2706.85  2603.54  2641.25  778263680.0  2018-10-29   \n",
       "1635     2640.68  2685.43  2635.34  2682.63  820550304.0  2018-10-30   \n",
       "1636     2705.60  2736.69  2705.60  2711.74  820550304.0  2018-10-31   \n",
       "\n",
       "        cont_len  cont_pol cont_sent  date_year  date_month  date_day  \\\n",
       "0     108.142857      0.01  Positive       2012           4        11   \n",
       "1      75.000000      0.11  Positive       2012           4        12   \n",
       "2      73.000000      0.00   Neutral       2012           4        13   \n",
       "3     188.500000      0.13  Positive       2012           4        16   \n",
       "4     235.529412      0.10  Positive       2012           4        17   \n",
       "...          ...       ...       ...        ...         ...       ...   \n",
       "1632   89.500580      0.04  Positive       2018          10        25   \n",
       "1633   90.076709      0.04  Positive       2018          10        26   \n",
       "1634   98.429104      0.03  Positive       2018          10        29   \n",
       "1635   95.842273      0.03  Positive       2018          10        30   \n",
       "1636   97.751851      0.04  Positive       2018          10        31   \n",
       "\n",
       "      sent_neg  sent_neu  sent_pos  target_variable  \n",
       "0            0         0         1                0  \n",
       "1            0         0         1                1  \n",
       "2            0         1         0                0  \n",
       "3            0         0         1                0  \n",
       "4            0         0         1                1  \n",
       "...        ...       ...       ...              ...  \n",
       "1632         0         0         1                1  \n",
       "1633         0         0         1                0  \n",
       "1634         0         0         1                0  \n",
       "1635         0         0         1                1  \n",
       "1636         0         0         1                1  \n",
       "\n",
       "[1637 rows x 16 columns]"
      ]
     },
     "execution_count": 34,
     "metadata": {},
     "output_type": "execute_result"
    }
   ],
   "source": [
    "data.rename(columns = {'open':'open_price'}, inplace = True)\n",
    "data"
   ]
  },
  {
   "cell_type": "markdown",
   "id": "8cef9611",
   "metadata": {},
   "source": [
    "# Pickling"
   ]
  },
  {
   "cell_type": "code",
   "execution_count": 35,
   "id": "e81a14d3",
   "metadata": {},
   "outputs": [],
   "source": [
    "import pickle\n",
    "# Open a file, where you want to store the data\n",
    "file = open('stock_log_reg.pkl', 'wb')\n",
    "\n",
    "# Dump information to that file\n",
    "pickle.dump(log_reg_grid_search, file)"
   ]
  }
 ],
 "metadata": {
  "kernelspec": {
   "display_name": "Python 3",
   "language": "python",
   "name": "python3"
  },
  "language_info": {
   "codemirror_mode": {
    "name": "ipython",
    "version": 3
   },
   "file_extension": ".py",
   "mimetype": "text/x-python",
   "name": "python",
   "nbconvert_exporter": "python",
   "pygments_lexer": "ipython3",
   "version": "3.8.5"
  }
 },
 "nbformat": 4,
 "nbformat_minor": 5
}
